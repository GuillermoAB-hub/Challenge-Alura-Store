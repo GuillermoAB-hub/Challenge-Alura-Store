{
  "nbformat": 4,
  "nbformat_minor": 0,
  "metadata": {
    "colab": {
      "provenance": []
    },
    "kernelspec": {
      "name": "python3",
      "display_name": "Python 3"
    },
    "language_info": {
      "name": "python"
    }
  },
  "cells": [
    {
      "cell_type": "markdown",
      "source": [
        "### Importación de datos\n",
        "\n"
      ],
      "metadata": {
        "id": "RhEdWd9YUR6H"
      }
    },
    {
      "cell_type": "code",
      "execution_count": 1,
      "metadata": {
        "colab": {
          "base_uri": "https://localhost:8080/",
          "height": 206
        },
        "id": "T3EvaeQ_INIL",
        "outputId": "4732c6ff-a785-49bd-d2aa-3a945433eb76"
      },
      "outputs": [
        {
          "output_type": "execute_result",
          "data": {
            "text/plain": [
              "            Producto Categoría del Producto    Precio  Costo de envío  \\\n",
              "0  Asistente virtual           Electrónicos  164300.0          6900.0   \n",
              "1    Mesa de comedor                Muebles  192300.0          8400.0   \n",
              "2      Juego de mesa               Juguetes  209600.0         15900.0   \n",
              "3         Microondas      Electrodomésticos  757500.0         41000.0   \n",
              "4   Silla de oficina                Muebles  335200.0         20200.0   \n",
              "\n",
              "  Fecha de Compra         Vendedor Lugar de Compra  Calificación  \\\n",
              "0      16/01/2021      Pedro Gomez          Bogotá             4   \n",
              "1      18/05/2022  Beatriz Morales        Medellín             1   \n",
              "2      15/03/2021   Juan Fernandez       Cartagena             1   \n",
              "3      03/05/2022   Juan Fernandez            Cali             4   \n",
              "4      07/11/2020    Maria Alfonso        Medellín             5   \n",
              "\n",
              "       Método de pago  Cantidad de cuotas       lat       lon  \n",
              "0  Tarjeta de crédito                   8   4.60971 -74.08175  \n",
              "1  Tarjeta de crédito                   4   6.25184 -75.56359  \n",
              "2  Tarjeta de crédito                   1  10.39972 -75.51444  \n",
              "3               Nequi                   1   3.43722 -76.52250  \n",
              "4               Nequi                   1   6.25184 -75.56359  "
            ],
            "text/html": [
              "\n",
              "  <div id=\"df-aa2db6e5-ec82-4896-a25e-0cf12d820dfb\" class=\"colab-df-container\">\n",
              "    <div>\n",
              "<style scoped>\n",
              "    .dataframe tbody tr th:only-of-type {\n",
              "        vertical-align: middle;\n",
              "    }\n",
              "\n",
              "    .dataframe tbody tr th {\n",
              "        vertical-align: top;\n",
              "    }\n",
              "\n",
              "    .dataframe thead th {\n",
              "        text-align: right;\n",
              "    }\n",
              "</style>\n",
              "<table border=\"1\" class=\"dataframe\">\n",
              "  <thead>\n",
              "    <tr style=\"text-align: right;\">\n",
              "      <th></th>\n",
              "      <th>Producto</th>\n",
              "      <th>Categoría del Producto</th>\n",
              "      <th>Precio</th>\n",
              "      <th>Costo de envío</th>\n",
              "      <th>Fecha de Compra</th>\n",
              "      <th>Vendedor</th>\n",
              "      <th>Lugar de Compra</th>\n",
              "      <th>Calificación</th>\n",
              "      <th>Método de pago</th>\n",
              "      <th>Cantidad de cuotas</th>\n",
              "      <th>lat</th>\n",
              "      <th>lon</th>\n",
              "    </tr>\n",
              "  </thead>\n",
              "  <tbody>\n",
              "    <tr>\n",
              "      <th>0</th>\n",
              "      <td>Asistente virtual</td>\n",
              "      <td>Electrónicos</td>\n",
              "      <td>164300.0</td>\n",
              "      <td>6900.0</td>\n",
              "      <td>16/01/2021</td>\n",
              "      <td>Pedro Gomez</td>\n",
              "      <td>Bogotá</td>\n",
              "      <td>4</td>\n",
              "      <td>Tarjeta de crédito</td>\n",
              "      <td>8</td>\n",
              "      <td>4.60971</td>\n",
              "      <td>-74.08175</td>\n",
              "    </tr>\n",
              "    <tr>\n",
              "      <th>1</th>\n",
              "      <td>Mesa de comedor</td>\n",
              "      <td>Muebles</td>\n",
              "      <td>192300.0</td>\n",
              "      <td>8400.0</td>\n",
              "      <td>18/05/2022</td>\n",
              "      <td>Beatriz Morales</td>\n",
              "      <td>Medellín</td>\n",
              "      <td>1</td>\n",
              "      <td>Tarjeta de crédito</td>\n",
              "      <td>4</td>\n",
              "      <td>6.25184</td>\n",
              "      <td>-75.56359</td>\n",
              "    </tr>\n",
              "    <tr>\n",
              "      <th>2</th>\n",
              "      <td>Juego de mesa</td>\n",
              "      <td>Juguetes</td>\n",
              "      <td>209600.0</td>\n",
              "      <td>15900.0</td>\n",
              "      <td>15/03/2021</td>\n",
              "      <td>Juan Fernandez</td>\n",
              "      <td>Cartagena</td>\n",
              "      <td>1</td>\n",
              "      <td>Tarjeta de crédito</td>\n",
              "      <td>1</td>\n",
              "      <td>10.39972</td>\n",
              "      <td>-75.51444</td>\n",
              "    </tr>\n",
              "    <tr>\n",
              "      <th>3</th>\n",
              "      <td>Microondas</td>\n",
              "      <td>Electrodomésticos</td>\n",
              "      <td>757500.0</td>\n",
              "      <td>41000.0</td>\n",
              "      <td>03/05/2022</td>\n",
              "      <td>Juan Fernandez</td>\n",
              "      <td>Cali</td>\n",
              "      <td>4</td>\n",
              "      <td>Nequi</td>\n",
              "      <td>1</td>\n",
              "      <td>3.43722</td>\n",
              "      <td>-76.52250</td>\n",
              "    </tr>\n",
              "    <tr>\n",
              "      <th>4</th>\n",
              "      <td>Silla de oficina</td>\n",
              "      <td>Muebles</td>\n",
              "      <td>335200.0</td>\n",
              "      <td>20200.0</td>\n",
              "      <td>07/11/2020</td>\n",
              "      <td>Maria Alfonso</td>\n",
              "      <td>Medellín</td>\n",
              "      <td>5</td>\n",
              "      <td>Nequi</td>\n",
              "      <td>1</td>\n",
              "      <td>6.25184</td>\n",
              "      <td>-75.56359</td>\n",
              "    </tr>\n",
              "  </tbody>\n",
              "</table>\n",
              "</div>\n",
              "    <div class=\"colab-df-buttons\">\n",
              "\n",
              "  <div class=\"colab-df-container\">\n",
              "    <button class=\"colab-df-convert\" onclick=\"convertToInteractive('df-aa2db6e5-ec82-4896-a25e-0cf12d820dfb')\"\n",
              "            title=\"Convert this dataframe to an interactive table.\"\n",
              "            style=\"display:none;\">\n",
              "\n",
              "  <svg xmlns=\"http://www.w3.org/2000/svg\" height=\"24px\" viewBox=\"0 -960 960 960\">\n",
              "    <path d=\"M120-120v-720h720v720H120Zm60-500h600v-160H180v160Zm220 220h160v-160H400v160Zm0 220h160v-160H400v160ZM180-400h160v-160H180v160Zm440 0h160v-160H620v160ZM180-180h160v-160H180v160Zm440 0h160v-160H620v160Z\"/>\n",
              "  </svg>\n",
              "    </button>\n",
              "\n",
              "  <style>\n",
              "    .colab-df-container {\n",
              "      display:flex;\n",
              "      gap: 12px;\n",
              "    }\n",
              "\n",
              "    .colab-df-convert {\n",
              "      background-color: #E8F0FE;\n",
              "      border: none;\n",
              "      border-radius: 50%;\n",
              "      cursor: pointer;\n",
              "      display: none;\n",
              "      fill: #1967D2;\n",
              "      height: 32px;\n",
              "      padding: 0 0 0 0;\n",
              "      width: 32px;\n",
              "    }\n",
              "\n",
              "    .colab-df-convert:hover {\n",
              "      background-color: #E2EBFA;\n",
              "      box-shadow: 0px 1px 2px rgba(60, 64, 67, 0.3), 0px 1px 3px 1px rgba(60, 64, 67, 0.15);\n",
              "      fill: #174EA6;\n",
              "    }\n",
              "\n",
              "    .colab-df-buttons div {\n",
              "      margin-bottom: 4px;\n",
              "    }\n",
              "\n",
              "    [theme=dark] .colab-df-convert {\n",
              "      background-color: #3B4455;\n",
              "      fill: #D2E3FC;\n",
              "    }\n",
              "\n",
              "    [theme=dark] .colab-df-convert:hover {\n",
              "      background-color: #434B5C;\n",
              "      box-shadow: 0px 1px 3px 1px rgba(0, 0, 0, 0.15);\n",
              "      filter: drop-shadow(0px 1px 2px rgba(0, 0, 0, 0.3));\n",
              "      fill: #FFFFFF;\n",
              "    }\n",
              "  </style>\n",
              "\n",
              "    <script>\n",
              "      const buttonEl =\n",
              "        document.querySelector('#df-aa2db6e5-ec82-4896-a25e-0cf12d820dfb button.colab-df-convert');\n",
              "      buttonEl.style.display =\n",
              "        google.colab.kernel.accessAllowed ? 'block' : 'none';\n",
              "\n",
              "      async function convertToInteractive(key) {\n",
              "        const element = document.querySelector('#df-aa2db6e5-ec82-4896-a25e-0cf12d820dfb');\n",
              "        const dataTable =\n",
              "          await google.colab.kernel.invokeFunction('convertToInteractive',\n",
              "                                                    [key], {});\n",
              "        if (!dataTable) return;\n",
              "\n",
              "        const docLinkHtml = 'Like what you see? Visit the ' +\n",
              "          '<a target=\"_blank\" href=https://colab.research.google.com/notebooks/data_table.ipynb>data table notebook</a>'\n",
              "          + ' to learn more about interactive tables.';\n",
              "        element.innerHTML = '';\n",
              "        dataTable['output_type'] = 'display_data';\n",
              "        await google.colab.output.renderOutput(dataTable, element);\n",
              "        const docLink = document.createElement('div');\n",
              "        docLink.innerHTML = docLinkHtml;\n",
              "        element.appendChild(docLink);\n",
              "      }\n",
              "    </script>\n",
              "  </div>\n",
              "\n",
              "\n",
              "    <div id=\"df-53c2d8dd-be15-4329-ab7f-6ba9a410c7e0\">\n",
              "      <button class=\"colab-df-quickchart\" onclick=\"quickchart('df-53c2d8dd-be15-4329-ab7f-6ba9a410c7e0')\"\n",
              "                title=\"Suggest charts\"\n",
              "                style=\"display:none;\">\n",
              "\n",
              "<svg xmlns=\"http://www.w3.org/2000/svg\" height=\"24px\"viewBox=\"0 0 24 24\"\n",
              "     width=\"24px\">\n",
              "    <g>\n",
              "        <path d=\"M19 3H5c-1.1 0-2 .9-2 2v14c0 1.1.9 2 2 2h14c1.1 0 2-.9 2-2V5c0-1.1-.9-2-2-2zM9 17H7v-7h2v7zm4 0h-2V7h2v10zm4 0h-2v-4h2v4z\"/>\n",
              "    </g>\n",
              "</svg>\n",
              "      </button>\n",
              "\n",
              "<style>\n",
              "  .colab-df-quickchart {\n",
              "      --bg-color: #E8F0FE;\n",
              "      --fill-color: #1967D2;\n",
              "      --hover-bg-color: #E2EBFA;\n",
              "      --hover-fill-color: #174EA6;\n",
              "      --disabled-fill-color: #AAA;\n",
              "      --disabled-bg-color: #DDD;\n",
              "  }\n",
              "\n",
              "  [theme=dark] .colab-df-quickchart {\n",
              "      --bg-color: #3B4455;\n",
              "      --fill-color: #D2E3FC;\n",
              "      --hover-bg-color: #434B5C;\n",
              "      --hover-fill-color: #FFFFFF;\n",
              "      --disabled-bg-color: #3B4455;\n",
              "      --disabled-fill-color: #666;\n",
              "  }\n",
              "\n",
              "  .colab-df-quickchart {\n",
              "    background-color: var(--bg-color);\n",
              "    border: none;\n",
              "    border-radius: 50%;\n",
              "    cursor: pointer;\n",
              "    display: none;\n",
              "    fill: var(--fill-color);\n",
              "    height: 32px;\n",
              "    padding: 0;\n",
              "    width: 32px;\n",
              "  }\n",
              "\n",
              "  .colab-df-quickchart:hover {\n",
              "    background-color: var(--hover-bg-color);\n",
              "    box-shadow: 0 1px 2px rgba(60, 64, 67, 0.3), 0 1px 3px 1px rgba(60, 64, 67, 0.15);\n",
              "    fill: var(--button-hover-fill-color);\n",
              "  }\n",
              "\n",
              "  .colab-df-quickchart-complete:disabled,\n",
              "  .colab-df-quickchart-complete:disabled:hover {\n",
              "    background-color: var(--disabled-bg-color);\n",
              "    fill: var(--disabled-fill-color);\n",
              "    box-shadow: none;\n",
              "  }\n",
              "\n",
              "  .colab-df-spinner {\n",
              "    border: 2px solid var(--fill-color);\n",
              "    border-color: transparent;\n",
              "    border-bottom-color: var(--fill-color);\n",
              "    animation:\n",
              "      spin 1s steps(1) infinite;\n",
              "  }\n",
              "\n",
              "  @keyframes spin {\n",
              "    0% {\n",
              "      border-color: transparent;\n",
              "      border-bottom-color: var(--fill-color);\n",
              "      border-left-color: var(--fill-color);\n",
              "    }\n",
              "    20% {\n",
              "      border-color: transparent;\n",
              "      border-left-color: var(--fill-color);\n",
              "      border-top-color: var(--fill-color);\n",
              "    }\n",
              "    30% {\n",
              "      border-color: transparent;\n",
              "      border-left-color: var(--fill-color);\n",
              "      border-top-color: var(--fill-color);\n",
              "      border-right-color: var(--fill-color);\n",
              "    }\n",
              "    40% {\n",
              "      border-color: transparent;\n",
              "      border-right-color: var(--fill-color);\n",
              "      border-top-color: var(--fill-color);\n",
              "    }\n",
              "    60% {\n",
              "      border-color: transparent;\n",
              "      border-right-color: var(--fill-color);\n",
              "    }\n",
              "    80% {\n",
              "      border-color: transparent;\n",
              "      border-right-color: var(--fill-color);\n",
              "      border-bottom-color: var(--fill-color);\n",
              "    }\n",
              "    90% {\n",
              "      border-color: transparent;\n",
              "      border-bottom-color: var(--fill-color);\n",
              "    }\n",
              "  }\n",
              "</style>\n",
              "\n",
              "      <script>\n",
              "        async function quickchart(key) {\n",
              "          const quickchartButtonEl =\n",
              "            document.querySelector('#' + key + ' button');\n",
              "          quickchartButtonEl.disabled = true;  // To prevent multiple clicks.\n",
              "          quickchartButtonEl.classList.add('colab-df-spinner');\n",
              "          try {\n",
              "            const charts = await google.colab.kernel.invokeFunction(\n",
              "                'suggestCharts', [key], {});\n",
              "          } catch (error) {\n",
              "            console.error('Error during call to suggestCharts:', error);\n",
              "          }\n",
              "          quickchartButtonEl.classList.remove('colab-df-spinner');\n",
              "          quickchartButtonEl.classList.add('colab-df-quickchart-complete');\n",
              "        }\n",
              "        (() => {\n",
              "          let quickchartButtonEl =\n",
              "            document.querySelector('#df-53c2d8dd-be15-4329-ab7f-6ba9a410c7e0 button');\n",
              "          quickchartButtonEl.style.display =\n",
              "            google.colab.kernel.accessAllowed ? 'block' : 'none';\n",
              "        })();\n",
              "      </script>\n",
              "    </div>\n",
              "\n",
              "    </div>\n",
              "  </div>\n"
            ],
            "application/vnd.google.colaboratory.intrinsic+json": {
              "type": "dataframe",
              "variable_name": "tienda",
              "summary": "{\n  \"name\": \"tienda\",\n  \"rows\": 2359,\n  \"fields\": [\n    {\n      \"column\": \"Producto\",\n      \"properties\": {\n        \"dtype\": \"category\",\n        \"num_unique_values\": 51,\n        \"samples\": [\n          \"Guitarra ac\\u00fastica\",\n          \"Bal\\u00f3n de baloncesto\",\n          \"Smartwatch\"\n        ],\n        \"semantic_type\": \"\",\n        \"description\": \"\"\n      }\n    },\n    {\n      \"column\": \"Categor\\u00eda del Producto\",\n      \"properties\": {\n        \"dtype\": \"category\",\n        \"num_unique_values\": 8,\n        \"samples\": [\n          \"Muebles\",\n          \"Deportes y diversi\\u00f3n\",\n          \"Electr\\u00f3nicos\"\n        ],\n        \"semantic_type\": \"\",\n        \"description\": \"\"\n      }\n    },\n    {\n      \"column\": \"Precio\",\n      \"properties\": {\n        \"dtype\": \"number\",\n        \"std\": 614686.7653873172,\n        \"min\": 7600.0,\n        \"max\": 2977000.0,\n        \"num_unique_values\": 1937,\n        \"samples\": [\n          2499400.0,\n          14800.0,\n          80500.0\n        ],\n        \"semantic_type\": \"\",\n        \"description\": \"\"\n      }\n    },\n    {\n      \"column\": \"Costo de env\\u00edo\",\n      \"properties\": {\n        \"dtype\": \"number\",\n        \"std\": 32860.0017825605,\n        \"min\": 0.0,\n        \"max\": 160800.0,\n        \"num_unique_values\": 753,\n        \"samples\": [\n          117800.0,\n          54700.0,\n          45600.0\n        ],\n        \"semantic_type\": \"\",\n        \"description\": \"\"\n      }\n    },\n    {\n      \"column\": \"Fecha de Compra\",\n      \"properties\": {\n        \"dtype\": \"object\",\n        \"num_unique_values\": 1018,\n        \"samples\": [\n          \"15/09/2022\",\n          \"03/06/2020\",\n          \"06/11/2021\"\n        ],\n        \"semantic_type\": \"\",\n        \"description\": \"\"\n      }\n    },\n    {\n      \"column\": \"Vendedor\",\n      \"properties\": {\n        \"dtype\": \"category\",\n        \"num_unique_values\": 14,\n        \"samples\": [\n          \"Juliana Costa\",\n          \"Mariana Herrera\",\n          \"Pedro Gomez\"\n        ],\n        \"semantic_type\": \"\",\n        \"description\": \"\"\n      }\n    },\n    {\n      \"column\": \"Lugar de Compra\",\n      \"properties\": {\n        \"dtype\": \"category\",\n        \"num_unique_values\": 19,\n        \"samples\": [\n          \"Bogot\\u00e1\",\n          \"Pereira\",\n          \"Neiva\"\n        ],\n        \"semantic_type\": \"\",\n        \"description\": \"\"\n      }\n    },\n    {\n      \"column\": \"Calificaci\\u00f3n\",\n      \"properties\": {\n        \"dtype\": \"number\",\n        \"std\": 1,\n        \"min\": 1,\n        \"max\": 5,\n        \"num_unique_values\": 5,\n        \"samples\": [\n          1,\n          2,\n          5\n        ],\n        \"semantic_type\": \"\",\n        \"description\": \"\"\n      }\n    },\n    {\n      \"column\": \"M\\u00e9todo de pago\",\n      \"properties\": {\n        \"dtype\": \"category\",\n        \"num_unique_values\": 4,\n        \"samples\": [\n          \"Nequi\",\n          \"Tarjeta de d\\u00e9bito\",\n          \"Tarjeta de cr\\u00e9dito\"\n        ],\n        \"semantic_type\": \"\",\n        \"description\": \"\"\n      }\n    },\n    {\n      \"column\": \"Cantidad de cuotas\",\n      \"properties\": {\n        \"dtype\": \"number\",\n        \"std\": 2,\n        \"min\": 1,\n        \"max\": 24,\n        \"num_unique_values\": 15,\n        \"samples\": [\n          7,\n          14,\n          8\n        ],\n        \"semantic_type\": \"\",\n        \"description\": \"\"\n      }\n    },\n    {\n      \"column\": \"lat\",\n      \"properties\": {\n        \"dtype\": \"number\",\n        \"std\": 2.2874452492678627,\n        \"min\": -4.21528,\n        \"max\": 11.54444,\n        \"num_unique_values\": 19,\n        \"samples\": [\n          4.60971,\n          4.81333,\n          2.9273\n        ],\n        \"semantic_type\": \"\",\n        \"description\": \"\"\n      }\n    },\n    {\n      \"column\": \"lon\",\n      \"properties\": {\n        \"dtype\": \"number\",\n        \"std\": 1.2178272727088486,\n        \"min\": -77.28111,\n        \"max\": -67.9239,\n        \"num_unique_values\": 19,\n        \"samples\": [\n          -74.08175,\n          -75.69611,\n          -75.28189\n        ],\n        \"semantic_type\": \"\",\n        \"description\": \"\"\n      }\n    }\n  ]\n}"
            }
          },
          "metadata": {},
          "execution_count": 1
        }
      ],
      "source": [
        "import pandas as pd\n",
        "\n",
        "url = \"https://raw.githubusercontent.com/alura-es-cursos/challenge1-data-science-latam/refs/heads/main/base-de-datos-challenge1-latam/tienda_1%20.csv\"\n",
        "url2 = \"https://raw.githubusercontent.com/alura-es-cursos/challenge1-data-science-latam/refs/heads/main/base-de-datos-challenge1-latam/tienda_2.csv\"\n",
        "url3 = \"https://raw.githubusercontent.com/alura-es-cursos/challenge1-data-science-latam/refs/heads/main/base-de-datos-challenge1-latam/tienda_3.csv\"\n",
        "url4 = \"https://raw.githubusercontent.com/alura-es-cursos/challenge1-data-science-latam/refs/heads/main/base-de-datos-challenge1-latam/tienda_4.csv\"\n",
        "\n",
        "tienda = pd.read_csv(url)\n",
        "tienda2 = pd.read_csv(url2)\n",
        "tienda3 = pd.read_csv(url3)\n",
        "tienda4 = pd.read_csv(url4)\n",
        "\n",
        "tienda.head()"
      ]
    },
    {
      "cell_type": "markdown",
      "source": [
        "#1. Análisis de facturación\n",
        "\n"
      ],
      "metadata": {
        "id": "X62IW3KFUIYm"
      }
    },
    {
      "cell_type": "code",
      "source": [
        "lista_tiendas = ['tienda','tienda2','tienda3','tienda4']\n",
        "tienda.keys()"
      ],
      "metadata": {
        "id": "xykobSftV64I",
        "colab": {
          "base_uri": "https://localhost:8080/"
        },
        "outputId": "485e2e60-b6a8-495d-ff1b-350414c005e5"
      },
      "execution_count": 68,
      "outputs": [
        {
          "output_type": "execute_result",
          "data": {
            "text/plain": [
              "Index(['Producto', 'Categoría del Producto', 'Precio', 'Costo de envío',\n",
              "       'Fecha de Compra', 'Vendedor', 'Lugar de Compra', 'Calificación',\n",
              "       'Método de pago', 'Cantidad de cuotas', 'lat', 'lon'],\n",
              "      dtype='object')"
            ]
          },
          "metadata": {},
          "execution_count": 68
        }
      ]
    },
    {
      "cell_type": "code",
      "source": [
        "total_precio_tienda1 = tienda['Precio'].sum()\n",
        "total_precio_tienda2 = tienda2['Precio'].sum()\n",
        "total_precio_tienda3 = tienda3['Precio'].sum()\n",
        "total_precio_tienda4 = tienda4['Precio'].sum()\n",
        "\n",
        "lista_ventas = [total_precio_tienda1,total_precio_tienda2,total_precio_tienda3,total_precio_tienda4]\n",
        "\n",
        "print(f\"Total de precios en tienda 1: {total_precio_tienda1}\")\n",
        "print(f\"Total de precios en tienda 2: {total_precio_tienda2}\")\n",
        "print(f\"Total de precios en tienda 3: {total_precio_tienda3}\")\n",
        "print(f\"Total de precios en tienda 4: {total_precio_tienda4}\")\n",
        "print(lista_ventas)"
      ],
      "metadata": {
        "id": "KDyr8E71V3m-",
        "colab": {
          "base_uri": "https://localhost:8080/"
        },
        "outputId": "1d06825e-da98-4e93-933b-9b9042c34f7b"
      },
      "execution_count": 82,
      "outputs": [
        {
          "output_type": "stream",
          "name": "stdout",
          "text": [
            "Total de precios en tienda 1: 1150880400.0\n",
            "Total de precios en tienda 2: 1116343500.0\n",
            "Total de precios en tienda 3: 1098019600.0\n",
            "Total de precios en tienda 4: 1038375700.0\n",
            "[np.float64(1150880400.0), np.float64(1116343500.0), np.float64(1098019600.0), np.float64(1038375700.0)]\n"
          ]
        }
      ]
    },
    {
      "cell_type": "code",
      "source": [],
      "metadata": {
        "id": "1gcDEAZ-nOK5"
      },
      "execution_count": null,
      "outputs": []
    },
    {
      "cell_type": "markdown",
      "source": [
        "# 2. Ventas por categoría"
      ],
      "metadata": {
        "id": "2V_vcAPzWZmR"
      }
    },
    {
      "cell_type": "code",
      "source": [
        "cantidad_por_categoria = tienda['Categoría del Producto'].value_counts()+tienda2['Categoría del Producto'].value_counts()+tienda3['Categoría del Producto'].value_counts()+tienda4['Categoría del Producto'].value_counts()\n",
        "\n",
        "cantidad_por_categoria"
      ],
      "metadata": {
        "id": "A34YupIuYhfF",
        "colab": {
          "base_uri": "https://localhost:8080/",
          "height": 366
        },
        "outputId": "a99b8be9-ff81-46f6-9157-ac489e07ae62"
      },
      "execution_count": 32,
      "outputs": [
        {
          "output_type": "execute_result",
          "data": {
            "text/plain": [
              "Categoría del Producto\n",
              "Artículos para el hogar     730\n",
              "Deportes y diversión       1113\n",
              "Electrodomésticos          1149\n",
              "Electrónicos               1772\n",
              "Instrumentos musicales      753\n",
              "Juguetes                   1290\n",
              "Libros                      742\n",
              "Muebles                    1886\n",
              "Name: count, dtype: int64"
            ],
            "text/html": [
              "<div>\n",
              "<style scoped>\n",
              "    .dataframe tbody tr th:only-of-type {\n",
              "        vertical-align: middle;\n",
              "    }\n",
              "\n",
              "    .dataframe tbody tr th {\n",
              "        vertical-align: top;\n",
              "    }\n",
              "\n",
              "    .dataframe thead th {\n",
              "        text-align: right;\n",
              "    }\n",
              "</style>\n",
              "<table border=\"1\" class=\"dataframe\">\n",
              "  <thead>\n",
              "    <tr style=\"text-align: right;\">\n",
              "      <th></th>\n",
              "      <th>count</th>\n",
              "    </tr>\n",
              "    <tr>\n",
              "      <th>Categoría del Producto</th>\n",
              "      <th></th>\n",
              "    </tr>\n",
              "  </thead>\n",
              "  <tbody>\n",
              "    <tr>\n",
              "      <th>Artículos para el hogar</th>\n",
              "      <td>730</td>\n",
              "    </tr>\n",
              "    <tr>\n",
              "      <th>Deportes y diversión</th>\n",
              "      <td>1113</td>\n",
              "    </tr>\n",
              "    <tr>\n",
              "      <th>Electrodomésticos</th>\n",
              "      <td>1149</td>\n",
              "    </tr>\n",
              "    <tr>\n",
              "      <th>Electrónicos</th>\n",
              "      <td>1772</td>\n",
              "    </tr>\n",
              "    <tr>\n",
              "      <th>Instrumentos musicales</th>\n",
              "      <td>753</td>\n",
              "    </tr>\n",
              "    <tr>\n",
              "      <th>Juguetes</th>\n",
              "      <td>1290</td>\n",
              "    </tr>\n",
              "    <tr>\n",
              "      <th>Libros</th>\n",
              "      <td>742</td>\n",
              "    </tr>\n",
              "    <tr>\n",
              "      <th>Muebles</th>\n",
              "      <td>1886</td>\n",
              "    </tr>\n",
              "  </tbody>\n",
              "</table>\n",
              "</div><br><label><b>dtype:</b> int64</label>"
            ]
          },
          "metadata": {},
          "execution_count": 32
        }
      ]
    },
    {
      "cell_type": "code",
      "source": [],
      "metadata": {
        "id": "yZR6cOjXYSk1"
      },
      "execution_count": 21,
      "outputs": []
    },
    {
      "cell_type": "markdown",
      "source": [
        "# 3. Calificación promedio de la tienda\n"
      ],
      "metadata": {
        "id": "Rq6tU_xSY3jk"
      }
    },
    {
      "cell_type": "code",
      "source": [
        "def prom(lista):\n",
        "  suma = 0\n",
        "  for i in lista:\n",
        "    suma += i\n",
        "  return suma/len(lista)"
      ],
      "metadata": {
        "id": "bh3jjjJwY5MU"
      },
      "execution_count": 28,
      "outputs": []
    },
    {
      "cell_type": "code",
      "source": [
        "calificacion_promedio_tienda1 = prom(tienda['Calificación'])\n",
        "calificacion_promedio_tienda2 = prom(tienda2['Calificación'])\n",
        "calificacion_promedio_tienda3 = prom(tienda3['Calificación'])\n",
        "calificacion_promedio_tienda4 = prom(tienda4['Calificación'])\n",
        "\n",
        "lista_calificaciones = [calificacion_promedio_tienda1,calificacion_promedio_tienda2,calificacion_promedio_tienda3,calificacion_promedio_tienda4]\n",
        "\n",
        "print(f\"La calificacion promedio en tienda 1: {calificacion_promedio_tienda1}\")\n",
        "print(f\"La calificacion promedio en tienda 2: {calificacion_promedio_tienda2}\")\n",
        "print(f\"La calificacion promedio en tienda 3: {calificacion_promedio_tienda3}\")\n",
        "print(f\"La calificacion promedio en tienda 4: {calificacion_promedio_tienda4}\")"
      ],
      "metadata": {
        "id": "I0KkjPoTY88F",
        "colab": {
          "base_uri": "https://localhost:8080/"
        },
        "outputId": "f1701dbb-ff75-46b0-cc78-44319444b817"
      },
      "execution_count": 70,
      "outputs": [
        {
          "output_type": "stream",
          "name": "stdout",
          "text": [
            "La calificacion promedio en tienda 1: 3.976685036032217\n",
            "La calificacion promedio en tienda 2: 4.037303942348453\n",
            "La calificacion promedio en tienda 3: 4.048325561678677\n",
            "La calificacion promedio en tienda 4: 3.9957591178965224\n"
          ]
        }
      ]
    },
    {
      "cell_type": "markdown",
      "source": [
        "# 4. Productos más y menos vendidos"
      ],
      "metadata": {
        "id": "DmNp1KPBZCm-"
      }
    },
    {
      "cell_type": "code",
      "source": [
        "for Categoría,Cantidad in tienda['Categoría del Producto'].value_counts().items():\n",
        "  print(f\"Categoría: {Categoría} Cantidad: {Cantidad}\")\n",
        "#min(tienda['Categoría del Producto'].value_counts())"
      ],
      "metadata": {
        "id": "qoyjqijQZHfF",
        "colab": {
          "base_uri": "https://localhost:8080/"
        },
        "outputId": "87c963bb-8628-4a76-e6bf-4732a682fb6f"
      },
      "execution_count": 39,
      "outputs": [
        {
          "output_type": "stream",
          "name": "stdout",
          "text": [
            "Categoría: Muebles Cantidad: 465\n",
            "Categoría: Electrónicos Cantidad: 448\n",
            "Categoría: Juguetes Cantidad: 324\n",
            "Categoría: Electrodomésticos Cantidad: 312\n",
            "Categoría: Deportes y diversión Cantidad: 284\n",
            "Categoría: Instrumentos musicales Cantidad: 182\n",
            "Categoría: Libros Cantidad: 173\n",
            "Categoría: Artículos para el hogar Cantidad: 171\n"
          ]
        }
      ]
    },
    {
      "cell_type": "code",
      "source": [
        "Producto_mas_vendido = tienda['Producto'].value_counts().idxmax()\n",
        "Producto_menos_vendido = tienda['Producto'].value_counts().idxmin()\n",
        "\n",
        "print(f\"Producto mas vendido: {Producto_mas_vendido}\")\n",
        "print(f\"Producto menos vendido: {Producto_menos_vendido}\")"
      ],
      "metadata": {
        "id": "0Sw3sd4IZIGW",
        "colab": {
          "base_uri": "https://localhost:8080/"
        },
        "outputId": "9537fc66-d726-4466-e2ec-3d02b1ccd8bf"
      },
      "execution_count": 41,
      "outputs": [
        {
          "output_type": "stream",
          "name": "stdout",
          "text": [
            "Producto mas vendido: Microondas\n",
            "Producto menos vendido: Auriculares con micrófono\n"
          ]
        }
      ]
    },
    {
      "cell_type": "code",
      "source": [
        "Producto_mas_vendido1 = tienda['Producto'].value_counts().idxmax()\n",
        "Producto_menos_vendido1 = tienda['Producto'].value_counts().idxmin()\n",
        "Producto_mas_vendido2 = tienda2['Producto'].value_counts().idxmax()\n",
        "Producto_menos_vendido2 = tienda2['Producto'].value_counts().idxmin()\n",
        "Producto_mas_vendido3 = tienda3['Producto'].value_counts().idxmax()\n",
        "Producto_menos_vendido3 = tienda3['Producto'].value_counts().idxmin()\n",
        "Producto_mas_vendido4 = tienda4['Producto'].value_counts().idxmax()\n",
        "Producto_menos_vendido4 = tienda4['Producto'].value_counts().idxmin()\n",
        "Producto_mas_vendido_general = (tienda['Producto'].value_counts()+tienda2['Producto'].value_counts()+tienda3['Producto'].value_counts()+tienda4['Producto'].value_counts()).idxmax()\n",
        "Producto_menos_vendido_general = (tienda['Producto'].value_counts()+tienda2['Producto'].value_counts()+tienda3['Producto'].value_counts()+tienda4['Producto'].value_counts()).idxmin()\n",
        "\n",
        "lista_mas_vendidos = [Producto_mas_vendido1,Producto_mas_vendido2,Producto_mas_vendido3,Producto_mas_vendido4,Producto_mas_vendido_general]\n",
        "lista_menos_vendidos = [Producto_menos_vendido1,Producto_menos_vendido2,Producto_menos_vendido3,Producto_menos_vendido4,Producto_menos_vendido_general]\n",
        "\n",
        "print(f\"Producto mas vendido tienda 1: {Producto_mas_vendido1}\")\n",
        "print(f\"Producto menos vendido tienda 1: {Producto_menos_vendido1}\")\n",
        "print(f\"Producto mas vendido tienda 2: {Producto_mas_vendido2}\")\n",
        "print(f\"Producto menos vendido tienda 2: {Producto_menos_vendido2}\")\n",
        "print(f\"Producto mas vendido tienda 3: {Producto_mas_vendido3}\")\n",
        "print(f\"Producto menos vendido tienda 3: {Producto_menos_vendido3}\")\n",
        "print(f\"Producto mas vendido tienda 4: {Producto_mas_vendido4}\")\n",
        "print(f\"Producto menos vendido tienda 4: {Producto_menos_vendido4}\")\n",
        "print(f\"Producto mas vendido general: {Producto_mas_vendido_general}\")\n",
        "print(f\"Producto menos vendido general: {Producto_menos_vendido_general}\")"
      ],
      "metadata": {
        "colab": {
          "base_uri": "https://localhost:8080/"
        },
        "id": "08gUOMVot58y",
        "outputId": "48b33143-88e6-49ee-f61e-c1fd0e08fccc"
      },
      "execution_count": 72,
      "outputs": [
        {
          "output_type": "stream",
          "name": "stdout",
          "text": [
            "Producto mas vendido tienda 1: Microondas\n",
            "Producto menos vendido tienda 1: Auriculares con micrófono\n",
            "Producto mas vendido tienda 2: Iniciando en programación\n",
            "Producto menos vendido tienda 2: Juego de mesa\n",
            "Producto mas vendido tienda 3: Kit de bancas\n",
            "Producto menos vendido tienda 3: Bloques de construcción\n",
            "Producto mas vendido tienda 4: Cama box\n",
            "Producto menos vendido tienda 4: Guitarra eléctrica\n",
            "Producto mas vendido general: Mesa de noche\n",
            "Producto menos vendido general: Celular ABXY\n"
          ]
        }
      ]
    },
    {
      "cell_type": "code",
      "source": [],
      "metadata": {
        "id": "4lHMErnpusWF"
      },
      "execution_count": 44,
      "outputs": []
    },
    {
      "cell_type": "markdown",
      "source": [
        "# 5. Envío promedio por tienda"
      ],
      "metadata": {
        "id": "Fl0cGi3bZKqU"
      }
    },
    {
      "cell_type": "code",
      "source": [
        "envio_promedio = round(prom(tienda['Costo de envío']),2)\n",
        "envio_promedio2 = round(prom(tienda2['Costo de envío']),2)\n",
        "envio_promedio3 = round(prom(tienda3['Costo de envío']),2)\n",
        "envio_promedio4 = round(prom(tienda4['Costo de envío']),2)\n",
        "\n",
        "lista_envios = [envio_promedio,envio_promedio2,envio_promedio3,envio_promedio4]\n",
        "\n",
        "print(f\"El envio promedio de la tienda 1 es: {envio_promedio}\")\n",
        "print(f\"El envio promedio de la tienda 2 es: {envio_promedio2}\")\n",
        "print(f\"El envio promedio de la tienda 3 es: {envio_promedio3}\")\n",
        "print(f\"El envio promedio de la tienda 4 es: {envio_promedio4}\")"
      ],
      "metadata": {
        "id": "S2JeaCykZNy9",
        "colab": {
          "base_uri": "https://localhost:8080/"
        },
        "outputId": "c8971f30-b72f-4013-db5c-c592544b0a9c"
      },
      "execution_count": 56,
      "outputs": [
        {
          "output_type": "stream",
          "name": "stdout",
          "text": [
            "El envio promedio de la tienda 1 es: 26018.61\n",
            "El envio promedio de la tienda 2 es: 25216.24\n",
            "El envio promedio de la tienda 3 es: 24805.68\n",
            "El envio promedio de la tienda 4 es: 23459.46\n"
          ]
        }
      ]
    },
    {
      "cell_type": "code",
      "source": [
        "lista_envios"
      ],
      "metadata": {
        "id": "0tSdCie9ZQlt",
        "colab": {
          "base_uri": "https://localhost:8080/"
        },
        "outputId": "76559cf1-d418-452e-d49c-04b98985be60"
      },
      "execution_count": 65,
      "outputs": [
        {
          "output_type": "execute_result",
          "data": {
            "text/plain": [
              "[26018.61, 25216.24, 24805.68, 23459.46]"
            ]
          },
          "metadata": {},
          "execution_count": 65
        }
      ]
    },
    {
      "cell_type": "markdown",
      "source": [
        "#6. Graficos"
      ],
      "metadata": {
        "id": "1LcIBcrmwhfQ"
      }
    },
    {
      "cell_type": "code",
      "source": [
        "import matplotlib.pyplot as plt"
      ],
      "metadata": {
        "id": "RzuJlBT3wkJ8"
      },
      "execution_count": 54,
      "outputs": []
    },
    {
      "cell_type": "code",
      "source": [
        "plt.bar(x=lista_tiendas, height=lista_envios)\n",
        "#plt.bar(tienda['Producto'], tienda['Precio'])\n",
        "\n",
        "plt.show()"
      ],
      "metadata": {
        "colab": {
          "base_uri": "https://localhost:8080/",
          "height": 430
        },
        "id": "iot0kEQYwrL8",
        "outputId": "6af9bada-08ee-4c13-c149-fd4896171e14"
      },
      "execution_count": 76,
      "outputs": [
        {
          "output_type": "display_data",
          "data": {
            "text/plain": [
              "<Figure size 640x480 with 1 Axes>"
            ],
            "image/png": "[encoded data removed]"
          },
          "metadata": {}
        }
      ]
    },
    {
      "cell_type": "code",
      "source": [
        "plt.pie(x=lista_ventas, labels=lista_tiendas)\n",
        "plt.show()"
      ],
      "metadata": {
        "colab": {
          "base_uri": "https://localhost:8080/",
          "height": 406
        },
        "id": "z-Q0-183xbWo",
        "outputId": "5d0cee8c-2056-4faf-ae24-0bf7c26fd5af"
      },
      "execution_count": 84,
      "outputs": [
        {
          "output_type": "display_data",
          "data": {
            "text/plain": [
              "<Figure size 640x480 with 1 Axes>"
            ],
            "image/png": "[encoded data removed]"
          },
          "metadata": {}
        }
      ]
    },
    {
      "cell_type": "code",
      "source": [
        "plt.scatter(x=lista_tiendas, y=)\n",
        "plt.show()"
      ],
      "metadata": {
        "colab": {
          "base_uri": "https://localhost:8080/",
          "height": 445
        },
        "id": "d9rqeYoUxbKR",
        "outputId": "8209e6fb-86ab-4872-d082-9253f6be448e"
      },
      "execution_count": 81,
      "outputs": [
        {
          "output_type": "display_data",
          "data": {
            "text/plain": [
              "<Figure size 640x480 with 1 Axes>"
            ],
            "image/png": "[encoded data removed]"
          },
          "metadata": {}
        }
      ]
    },
    {
      "cell_type": "code",
      "source": [],
      "metadata": {
        "id": "MhFtZy4L0pUP"
      },
      "execution_count": null,
      "outputs": []
    },
    {
      "cell_type": "markdown",
      "source": [
        "# 7. Ánalisis Final.\n",
        "\n",
        "## Ingresos totales por tienda.\n",
        "\n",
        "Total de ingresos en tienda 1: 1,150,880,400.0\n",
        "\n",
        "Total de ingresos en tienda 2: 1,116,343,500.0\n",
        "\n",
        "Total de ingresos en tienda 3: 1,098,019,600.0\n",
        "\n",
        "Total de ingreso en tienda 4: 1,038,375,700.0\n",
        "\n",
        "La tienda con los menores ingresos fue la tienda 4.\n",
        "\n",
        "## Categoría de productos más y menos vendidas.\n",
        "\n",
        "La categoría más vendida fue: Muebles\n",
        "\n",
        "La categoría menos vendida fue: Articulos para el hogar\n",
        "\n",
        "## Calificación promedio por tienda.\n",
        "\n",
        "La calificacion promedio en tienda 1: 3.97\n",
        "\n",
        "La calificacion promedio en tienda 2: 4.03\n",
        "\n",
        "La calificacion promedio en tienda 3: 4.04\n",
        "\n",
        "La calificacion promedio en tienda 4: 3.99\n",
        "\n",
        "La tienda con la calificación promedio más baja, fue la tienda #4.\n",
        "\n",
        "## Productos más y menos vendidos.\n",
        "\n",
        "Producto mas vendido tienda 1: Microondas\n",
        "\n",
        "Producto mas vendido tienda 2: Iniciando en programación\n",
        "\n",
        "Producto mas vendido tienda 3: Kit de bancas\n",
        "\n",
        "Producto mas vendido tienda 4: Cama box\n",
        "\n",
        "Producto mas vendido general: Mesa de noche\n",
        "\n",
        "Producto menos vendido tienda 1: Auriculares con micrófono\n",
        "\n",
        "Producto menos vendido tienda 2: Juego de mesa\n",
        "\n",
        "Producto menos vendido tienda 3: Bloques de construcción\n",
        "\n",
        "Producto menos vendido tienda 4: Guitarra eléctrica\n",
        "\n",
        "Producto menos vendido general: Celular ABXY\n",
        "\n",
        "## Coste de envío promedio.\n",
        "\n",
        "El envio promedio de la tienda 1 es: 26018.61\n",
        "\n",
        "El envio promedio de la tienda 2 es: 25216.24\n",
        "\n",
        "El envio promedio de la tienda 3 es: 24805.68\n",
        "\n",
        "El envio promedio de la tienda 4 es: 23459.46\n",
        "\n",
        "## Veredicto final.\n",
        "\n",
        "Luego del detenido analisis de los datos suministrados, la tienda que se recomienda cerrar es la #4, ya que es la tienda que genera menor cantidad de movimiento y tiene las segundas reseñas generales más bajas, si bien es cierto el costo de envío es el menor de todas, esto responde a temas de locaclizcaión de los clientes y de la propia tienda y no representa una razón de peso suficiente para ingnorar el resto de sus falencias.\n",
        "\n",
        "Por lo que se recomienda su cierre y reinversión de capital entre las demás tiendas."
      ],
      "metadata": {
        "id": "cRyjSyRR5sBT"
      }
    },
    {
      "cell_type": "code",
      "source": [],
      "metadata": {
        "id": "OZcgcjvX6Gf8"
      },
      "execution_count": null,
      "outputs": []
    }
  ]
}